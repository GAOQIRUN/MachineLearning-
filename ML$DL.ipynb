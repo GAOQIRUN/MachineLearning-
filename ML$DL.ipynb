{
  "nbformat": 4,
  "nbformat_minor": 0,
  "metadata": {
    "colab": {
      "name": "Assignment1_ML$DL.ipynb",
      "provenance": [],
      "collapsed_sections": []
    },
    "kernelspec": {
      "name": "python3",
      "display_name": "Python 3"
    }
  },
  "cells": [
    {
      "cell_type": "code",
      "metadata": {
        "id": "gRUkEVoZymdB",
        "colab_type": "code",
        "colab": {}
      },
      "source": [
        "import sys\n",
        "import numpy as np\n",
        "import pandas as pd\n",
        "from sklearn.impute import SimpleImputer\n",
        "from sklearn.preprocessing import MinMaxScaler\n",
        "from sklearn.model_selection import train_test_split\n",
        "from sklearn.model_selection import cross_val_score\n",
        "from sklearn.model_selection import StratifiedKFold\n",
        "from sklearn.neighbors import KNeighborsClassifier\n",
        "from sklearn.linear_model import LogisticRegression\n",
        "from sklearn.naive_bayes import GaussianNB\n",
        "from sklearn.tree import DecisionTreeClassifier\n",
        "from sklearn.ensemble import BaggingClassifier\n",
        "from sklearn.ensemble import AdaBoostClassifier\n",
        "from sklearn.ensemble import GradientBoostingClassifier\n",
        "from sklearn.model_selection import GridSearchCV\n",
        "from sklearn.svm import SVC\n",
        "from sklearn.ensemble import RandomForestClassifier\n"
      ],
      "execution_count": null,
      "outputs": []
    },
    {
      "cell_type": "code",
      "metadata": {
        "id": "Vq7yc7oy_T-1",
        "colab_type": "code",
        "colab": {}
      },
      "source": [
        "def pre_processing_data(path):\n",
        "  #read csv as df\n",
        "  breastCancerDataSet=pd.read_csv(path)\n",
        "  #extrac attributes and label\n",
        "  breastCancerDataSet_attributes=breastCancerDataSet.iloc[:,:-1]\n",
        "  breastCancerDataSet_Y=breastCancerDataSet.iloc[:,-1]\n",
        "  #transform value to numeric value\n",
        "  breastCancerDataSet_attributes.replace('?',np.NaN,inplace=True)\n",
        "  breastCancerDataSet_Y.replace('class1',0,inplace=True)\n",
        "  breastCancerDataSet_Y.replace('class2',1,inplace=True)\n",
        "  imp_mean = SimpleImputer(missing_values=np.NaN, strategy='mean',verbose=4)\n",
        "  imp_mean.fit(breastCancerDataSet_attributes)\n",
        "  breastCancerDataSet_attributes=imp_mean.transform(breastCancerDataSet_attributes)\n",
        "  #Normalise the attributes\n",
        "  sacler=MinMaxScaler()\n",
        "  sacler.fit(breastCancerDataSet_attributes)\n",
        "  breastCancerDataSet_attributes=sacler.transform(breastCancerDataSet_attributes)\n",
        "  #round value with 4 decimal\n",
        "  breastCancerDataSet_attributes=np.round( breastCancerDataSet_attributes,decimals=4)\n",
        "  return  breastCancerDataSet_attributes,breastCancerDataSet_Y"
      ],
      "execution_count": null,
      "outputs": []
    },
    {
      "cell_type": "code",
      "metadata": {
        "id": "FJ50XQrtJlMN",
        "colab_type": "code",
        "colab": {}
      },
      "source": [
        "def kNNClassifier(X, y, K):\n",
        "  knn=KNeighborsClassifier(n_neighbors=K)\n",
        "  cvKFold=StratifiedKFold(n_splits=10, shuffle=True, random_state=0)\n",
        "  scores=cross_val_score(knn,X,y,cv=cvKFold)\n",
        "  return np.round(scores.mean(),decimals=4)"
      ],
      "execution_count": null,
      "outputs": []
    },
    {
      "cell_type": "code",
      "metadata": {
        "id": "c92W0JkSfY3X",
        "colab_type": "code",
        "colab": {}
      },
      "source": [
        "def logregClassifier(X, y):\n",
        "  lr=LogisticRegression()\n",
        "  cvKFold=StratifiedKFold(n_splits=10, shuffle=True, random_state=0)\n",
        "  scores=cross_val_score(lr,X,y,cv=cvKFold)\n",
        "  return np.round(scores.mean(),decimals=4)"
      ],
      "execution_count": null,
      "outputs": []
    },
    {
      "cell_type": "code",
      "metadata": {
        "id": "YMp9cEk4kurz",
        "colab_type": "code",
        "colab": {}
      },
      "source": [
        "def nbClassifier(X, y):\n",
        "  gnb=GaussianNB()\n",
        "  cvKFold=StratifiedKFold(n_splits=10, shuffle=True, random_state=0)\n",
        "  scores=cross_val_score(gnb,X,y,cv=cvKFold)\n",
        "  return np.round(scores.mean(),decimals=4)            "
      ],
      "execution_count": null,
      "outputs": []
    },
    {
      "cell_type": "code",
      "metadata": {
        "id": "mKABrzXKlQ9k",
        "colab_type": "code",
        "colab": {}
      },
      "source": [
        "def dtClassifier(X, y):\n",
        "  dt=DecisionTreeClassifier(criterion='entropy',random_state=0)\n",
        "  cvKFold=StratifiedKFold(n_splits=10, shuffle=True, random_state=0)\n",
        "  scores=cross_val_score(dt,X,y,cv=cvKFold)\n",
        "  return np.round(scores.mean(),decimals=4)   "
      ],
      "execution_count": null,
      "outputs": []
    },
    {
      "cell_type": "code",
      "metadata": {
        "id": "FLwJsxSRmL1T",
        "colab_type": "code",
        "colab": {}
      },
      "source": [
        "def bagDTClassifier(X, y, n_estimators=100, max_samples=100, max_depth=2):\n",
        "  bag_clf=BaggingClassifier(DecisionTreeClassifier(random_state=0,max_depth=max_depth,criterion='entropy'),n_estimators=n_estimators,max_samples=max_samples,\n",
        "                            random_state=0)\n",
        "  cvKFold=StratifiedKFold(n_splits=10, shuffle=True, random_state=0)\n",
        "  scores=cross_val_score(bag_clf,X,y,cv=cvKFold)\n",
        "  return np.round(scores.mean(),decimals=4)   \n",
        "  "
      ],
      "execution_count": null,
      "outputs": []
    },
    {
      "cell_type": "code",
      "metadata": {
        "id": "9K-9wVEKoEtk",
        "colab_type": "code",
        "colab": {}
      },
      "source": [
        "def adaDTClassifier(X, y, n_estimators=100, learning_rate=0.2, max_depth=3):\n",
        "  ada_clf=AdaBoostClassifier(DecisionTreeClassifier(random_state=0,max_depth=max_depth,criterion='entropy'),\n",
        "                             n_estimators=n_estimators,\n",
        "                             learning_rate=learning_rate,\n",
        "                              random_state=0)\n",
        "  cvKFold=StratifiedKFold(n_splits=10, shuffle=True, random_state=0)\n",
        "  scores=cross_val_score(ada_clf,X,y,cv=cvKFold)\n",
        "  return np.round(scores.mean(),decimals=4)   "
      ],
      "execution_count": null,
      "outputs": []
    },
    {
      "cell_type": "code",
      "metadata": {
        "id": "gaODo9tApOZz",
        "colab_type": "code",
        "colab": {}
      },
      "source": [
        "def gbClassifier(X, y, n_estimators=100, learning_rate=0.2):\n",
        "  gb_clf=GradientBoostingClassifier(n_estimators=n_estimators,\n",
        "                                    learning_rate=learning_rate,\n",
        "                                    random_state=0)\n",
        "  cvKFold=StratifiedKFold(n_splits=10, shuffle=True, random_state=0)\n",
        "  scores=cross_val_score(gb_clf,X,y,cv=cvKFold)\n",
        "  return np.round(scores.mean(),decimals=4)   "
      ],
      "execution_count": null,
      "outputs": []
    },
    {
      "cell_type": "code",
      "metadata": {
        "id": "mh9NWkrEp_Zy",
        "colab_type": "code",
        "colab": {}
      },
      "source": [
        "def bestLinClassifier(X,y):\n",
        "  X_train,X_test,Y_train,Y_test=train_test_split(X,y,stratify=y,random_state=0)\n",
        "  param_grid={\n",
        "      'C': [0.001, 0.01, 0.1, 1, 10, 100],\n",
        "      'gamma':[0.001, 0.01, 0.1, 1, 10, 100]\n",
        "  }\n",
        "  cvKFold=StratifiedKFold(n_splits=10, shuffle=True, random_state=0)\n",
        "  grid_search=GridSearchCV(SVC(kernel='linear',random_state=0),param_grid,cv=cvKFold,return_train_score=True)\n",
        "  grid_search.fit(X_train,Y_train)\n",
        "  return grid_search.best_params_.get('C'),grid_search.best_params_.get('gamma'),np.round(grid_search.best_score_,decimals=4),np.round(grid_search.score(X_test,Y_test),decimals=4)\n",
        "              "
      ],
      "execution_count": null,
      "outputs": []
    },
    {
      "cell_type": "code",
      "metadata": {
        "id": "GC1kBk-Yq2UO",
        "colab_type": "code",
        "colab": {}
      },
      "source": [
        "def bestRFClassifier(X,y):\n",
        "  X_train,X_test,Y_train,Y_test=train_test_split(X,y,stratify=y,random_state=0)\n",
        "  param_grid={\n",
        "        \"n_estimators\" : [10, 20, 50, 100],\n",
        "        \"max_features\" : ['auto', 'sqrt', 'log2'],\n",
        "        \"max_leaf_nodes\" : [10, 20, 30]\n",
        "  }\n",
        "  cvKFold=StratifiedKFold(n_splits=10, shuffle=True, random_state=0)\n",
        "  grid_search=GridSearchCV(RandomForestClassifier(criterion='entropy',random_state=0),param_grid,cv=cvKFold,return_train_score=True)\n",
        "  grid_search.fit(X_train,Y_train)  \n",
        "  return grid_search.best_params_.get('n_estimators'),grid_search.best_params_.get('max_features'),grid_search.best_params_.get('max_leaf_nodes'),np.round(grid_search.best_score_,decimals=4),np.round(grid_search.score(X_test,Y_test),decimals=4)\n",
        "\n",
        "                "
      ],
      "execution_count": null,
      "outputs": []
    },
    {
      "cell_type": "code",
      "metadata": {
        "id": "PcBmA_zlvSwO",
        "colab_type": "code",
        "colab": {
          "base_uri": "https://localhost:8080/",
          "height": 408
        },
        "outputId": "f37a9dd3-da21-446a-dfaf-1a28205dc10b"
      },
      "source": [
        "def main(argv):\n",
        "  try:\n",
        "    dataPath,operation=argv[1],argv[2]\n",
        "  \n",
        "\n",
        "    if dataPath is not '':\n",
        "      # breastCancerDataSet=pd.read_csv(dataPath)\n",
        "      # preDataX=breastCancerDataSet.iloc[:,:9]\n",
        "      # preDataY=breastCancerDataSet.iloc[:,9]\n",
        "      preDataX,preDataY=pre_processing_data(dataPath)\n",
        "    else:\n",
        "      return\n",
        "    \n",
        "    if 'NN'== operation:\n",
        "      csv=pd.read_csv(argv[3])\n",
        "      K=csv.iloc[0,0]\n",
        "      res=kNNClassifier(preDataX,preDataY,K)\n",
        "      print(res)\n",
        "    elif 'P'== operation:\n",
        "      #preDataX,preDataY=pre_processing_data(dataPath)\n",
        "      items=[pd.DataFrame(preDataX),pd.DataFrame(preDataY)]\n",
        "      k=pd.concat(items, axis=1, sort=False)\n",
        "      res=k.to_csv(header=False,index=False,float_format='%.4f')\n",
        "      print(res,end='')\n",
        "    elif 'LR'== operation:\n",
        "      res=logregClassifier(preDataX,preDataY)\n",
        "      print(res)\n",
        "    elif 'NB'== operation:\n",
        "      res=nbClassifier(preDataX,preDataY)\n",
        "      print(res)\n",
        "    elif 'DT'== operation:\n",
        "      res=dtClassifier(preDataX,preDataY)\n",
        "      print(res)\n",
        "    elif 'BAG'== operation:\n",
        "      csv=pd.read_csv(argv[3])\n",
        "      n_estimators,max_samples,max_depth=csv.iloc[0,0],csv.iloc[0,1],csv.iloc[0,2]\n",
        "      res=bagDTClassifier(preDataX,preDataY,n_estimators,max_samples,max_depth)\n",
        "      print(res)\n",
        "    elif 'ADA'== operation:\n",
        "      csv=pd.read_csv(argv[3])\n",
        "      n_estimators,learning_rate,max_depth=csv.iloc[0,0],csv.iloc[0,1],csv.iloc[0,2]\n",
        "      res=adaDTClassifier(preDataX,preDataY,n_estimators,learning_rate,max_depth)\n",
        "      print(res)\n",
        "    elif 'GB'== operation:\n",
        "      csv=pd.read_csv(argv[3])\n",
        "      n_estimators,learning_rate=csv.iloc[0,0],csv.iloc[0,1]\n",
        "      res=gbClassifier(preDataX,preDataY,n_estimators,learning_rate)\n",
        "      print(res)\n",
        "    elif 'SVM'== operation: \n",
        "      a,b,c,d=bestLinClassifier(preDataX,preDataY)\n",
        "      print(a,b,c,d,sep='\\n',end='')\n",
        "    elif 'RF'== operation:\n",
        "      a,b,c,d,e=bestRFClassifier(preDataX,preDataY)\n",
        "      print(a,b,c,d,e,sep='\\n',end='')\n",
        "\n",
        "  except Exception as e:\n",
        "    print(\"An exception occurred :\",e)\n",
        "\n",
        "\n",
        "\n",
        "if __name__ == \"__main__\":\n",
        "    main(sys.argv)"
      ],
      "execution_count": null,
      "outputs": [
        {
          "output_type": "error",
          "ename": "FileNotFoundError",
          "evalue": "ignored",
          "traceback": [
            "\u001b[0;31m---------------------------------------------------------------------------\u001b[0m",
            "\u001b[0;31mFileNotFoundError\u001b[0m                         Traceback (most recent call last)",
            "\u001b[0;32m<ipython-input-21-04efcfdaa924>\u001b[0m in \u001b[0;36m<module>\u001b[0;34m()\u001b[0m\n\u001b[1;32m     59\u001b[0m \u001b[0;34m\u001b[0m\u001b[0m\n\u001b[1;32m     60\u001b[0m \u001b[0;32mif\u001b[0m \u001b[0m__name__\u001b[0m \u001b[0;34m==\u001b[0m \u001b[0;34m\"__main__\"\u001b[0m\u001b[0;34m:\u001b[0m\u001b[0;34m\u001b[0m\u001b[0;34m\u001b[0m\u001b[0m\n\u001b[0;32m---> 61\u001b[0;31m     \u001b[0mmain\u001b[0m\u001b[0;34m(\u001b[0m\u001b[0msys\u001b[0m\u001b[0;34m.\u001b[0m\u001b[0margv\u001b[0m\u001b[0;34m)\u001b[0m\u001b[0;34m\u001b[0m\u001b[0;34m\u001b[0m\u001b[0m\n\u001b[0m",
            "\u001b[0;32m<ipython-input-21-04efcfdaa924>\u001b[0m in \u001b[0;36mmain\u001b[0;34m(argv)\u001b[0m\n\u001b[1;32m      9\u001b[0m     \u001b[0;31m# preDataX=breastCancerDataSet.iloc[:,:9]\u001b[0m\u001b[0;34m\u001b[0m\u001b[0;34m\u001b[0m\u001b[0;34m\u001b[0m\u001b[0m\n\u001b[1;32m     10\u001b[0m     \u001b[0;31m# preDataY=breastCancerDataSet.iloc[:,9]\u001b[0m\u001b[0;34m\u001b[0m\u001b[0;34m\u001b[0m\u001b[0;34m\u001b[0m\u001b[0m\n\u001b[0;32m---> 11\u001b[0;31m     \u001b[0mpreDataX\u001b[0m\u001b[0;34m,\u001b[0m\u001b[0mpreDataY\u001b[0m\u001b[0;34m=\u001b[0m\u001b[0mpre_processing_data\u001b[0m\u001b[0;34m(\u001b[0m\u001b[0mdataPath\u001b[0m\u001b[0;34m)\u001b[0m\u001b[0;34m\u001b[0m\u001b[0;34m\u001b[0m\u001b[0m\n\u001b[0m\u001b[1;32m     12\u001b[0m   \u001b[0;32melse\u001b[0m\u001b[0;34m:\u001b[0m\u001b[0;34m\u001b[0m\u001b[0;34m\u001b[0m\u001b[0m\n\u001b[1;32m     13\u001b[0m     \u001b[0;32mreturn\u001b[0m\u001b[0;34m\u001b[0m\u001b[0;34m\u001b[0m\u001b[0m\n",
            "\u001b[0;32m<ipython-input-4-e8fbb0124cd1>\u001b[0m in \u001b[0;36mpre_processing_data\u001b[0;34m(path)\u001b[0m\n\u001b[1;32m      1\u001b[0m \u001b[0;32mdef\u001b[0m \u001b[0mpre_processing_data\u001b[0m\u001b[0;34m(\u001b[0m\u001b[0mpath\u001b[0m\u001b[0;34m)\u001b[0m\u001b[0;34m:\u001b[0m\u001b[0;34m\u001b[0m\u001b[0;34m\u001b[0m\u001b[0m\n\u001b[1;32m      2\u001b[0m   \u001b[0;31m#read csv as df\u001b[0m\u001b[0;34m\u001b[0m\u001b[0;34m\u001b[0m\u001b[0;34m\u001b[0m\u001b[0m\n\u001b[0;32m----> 3\u001b[0;31m   \u001b[0mbreastCancerDataSet\u001b[0m\u001b[0;34m=\u001b[0m\u001b[0mpd\u001b[0m\u001b[0;34m.\u001b[0m\u001b[0mread_csv\u001b[0m\u001b[0;34m(\u001b[0m\u001b[0mpath\u001b[0m\u001b[0;34m)\u001b[0m\u001b[0;34m\u001b[0m\u001b[0;34m\u001b[0m\u001b[0m\n\u001b[0m\u001b[1;32m      4\u001b[0m   \u001b[0;31m#extrac attributes and label\u001b[0m\u001b[0;34m\u001b[0m\u001b[0;34m\u001b[0m\u001b[0;34m\u001b[0m\u001b[0m\n\u001b[1;32m      5\u001b[0m   \u001b[0mbreastCancerDataSet_attributes\u001b[0m\u001b[0;34m=\u001b[0m\u001b[0mbreastCancerDataSet\u001b[0m\u001b[0;34m.\u001b[0m\u001b[0miloc\u001b[0m\u001b[0;34m[\u001b[0m\u001b[0;34m:\u001b[0m\u001b[0;34m,\u001b[0m\u001b[0;34m:\u001b[0m\u001b[0;34m-\u001b[0m\u001b[0;36m1\u001b[0m\u001b[0;34m]\u001b[0m\u001b[0;34m\u001b[0m\u001b[0;34m\u001b[0m\u001b[0m\n",
            "\u001b[0;32m/usr/local/lib/python3.6/dist-packages/pandas/io/parsers.py\u001b[0m in \u001b[0;36mparser_f\u001b[0;34m(filepath_or_buffer, sep, delimiter, header, names, index_col, usecols, squeeze, prefix, mangle_dupe_cols, dtype, engine, converters, true_values, false_values, skipinitialspace, skiprows, skipfooter, nrows, na_values, keep_default_na, na_filter, verbose, skip_blank_lines, parse_dates, infer_datetime_format, keep_date_col, date_parser, dayfirst, cache_dates, iterator, chunksize, compression, thousands, decimal, lineterminator, quotechar, quoting, doublequote, escapechar, comment, encoding, dialect, error_bad_lines, warn_bad_lines, delim_whitespace, low_memory, memory_map, float_precision)\u001b[0m\n\u001b[1;32m    674\u001b[0m         )\n\u001b[1;32m    675\u001b[0m \u001b[0;34m\u001b[0m\u001b[0m\n\u001b[0;32m--> 676\u001b[0;31m         \u001b[0;32mreturn\u001b[0m \u001b[0m_read\u001b[0m\u001b[0;34m(\u001b[0m\u001b[0mfilepath_or_buffer\u001b[0m\u001b[0;34m,\u001b[0m \u001b[0mkwds\u001b[0m\u001b[0;34m)\u001b[0m\u001b[0;34m\u001b[0m\u001b[0;34m\u001b[0m\u001b[0m\n\u001b[0m\u001b[1;32m    677\u001b[0m \u001b[0;34m\u001b[0m\u001b[0m\n\u001b[1;32m    678\u001b[0m     \u001b[0mparser_f\u001b[0m\u001b[0;34m.\u001b[0m\u001b[0m__name__\u001b[0m \u001b[0;34m=\u001b[0m \u001b[0mname\u001b[0m\u001b[0;34m\u001b[0m\u001b[0;34m\u001b[0m\u001b[0m\n",
            "\u001b[0;32m/usr/local/lib/python3.6/dist-packages/pandas/io/parsers.py\u001b[0m in \u001b[0;36m_read\u001b[0;34m(filepath_or_buffer, kwds)\u001b[0m\n\u001b[1;32m    446\u001b[0m \u001b[0;34m\u001b[0m\u001b[0m\n\u001b[1;32m    447\u001b[0m     \u001b[0;31m# Create the parser.\u001b[0m\u001b[0;34m\u001b[0m\u001b[0;34m\u001b[0m\u001b[0;34m\u001b[0m\u001b[0m\n\u001b[0;32m--> 448\u001b[0;31m     \u001b[0mparser\u001b[0m \u001b[0;34m=\u001b[0m \u001b[0mTextFileReader\u001b[0m\u001b[0;34m(\u001b[0m\u001b[0mfp_or_buf\u001b[0m\u001b[0;34m,\u001b[0m \u001b[0;34m**\u001b[0m\u001b[0mkwds\u001b[0m\u001b[0;34m)\u001b[0m\u001b[0;34m\u001b[0m\u001b[0;34m\u001b[0m\u001b[0m\n\u001b[0m\u001b[1;32m    449\u001b[0m \u001b[0;34m\u001b[0m\u001b[0m\n\u001b[1;32m    450\u001b[0m     \u001b[0;32mif\u001b[0m \u001b[0mchunksize\u001b[0m \u001b[0;32mor\u001b[0m \u001b[0miterator\u001b[0m\u001b[0;34m:\u001b[0m\u001b[0;34m\u001b[0m\u001b[0;34m\u001b[0m\u001b[0m\n",
            "\u001b[0;32m/usr/local/lib/python3.6/dist-packages/pandas/io/parsers.py\u001b[0m in \u001b[0;36m__init__\u001b[0;34m(self, f, engine, **kwds)\u001b[0m\n\u001b[1;32m    878\u001b[0m             \u001b[0mself\u001b[0m\u001b[0;34m.\u001b[0m\u001b[0moptions\u001b[0m\u001b[0;34m[\u001b[0m\u001b[0;34m\"has_index_names\"\u001b[0m\u001b[0;34m]\u001b[0m \u001b[0;34m=\u001b[0m \u001b[0mkwds\u001b[0m\u001b[0;34m[\u001b[0m\u001b[0;34m\"has_index_names\"\u001b[0m\u001b[0;34m]\u001b[0m\u001b[0;34m\u001b[0m\u001b[0;34m\u001b[0m\u001b[0m\n\u001b[1;32m    879\u001b[0m \u001b[0;34m\u001b[0m\u001b[0m\n\u001b[0;32m--> 880\u001b[0;31m         \u001b[0mself\u001b[0m\u001b[0;34m.\u001b[0m\u001b[0m_make_engine\u001b[0m\u001b[0;34m(\u001b[0m\u001b[0mself\u001b[0m\u001b[0;34m.\u001b[0m\u001b[0mengine\u001b[0m\u001b[0;34m)\u001b[0m\u001b[0;34m\u001b[0m\u001b[0;34m\u001b[0m\u001b[0m\n\u001b[0m\u001b[1;32m    881\u001b[0m \u001b[0;34m\u001b[0m\u001b[0m\n\u001b[1;32m    882\u001b[0m     \u001b[0;32mdef\u001b[0m \u001b[0mclose\u001b[0m\u001b[0;34m(\u001b[0m\u001b[0mself\u001b[0m\u001b[0;34m)\u001b[0m\u001b[0;34m:\u001b[0m\u001b[0;34m\u001b[0m\u001b[0;34m\u001b[0m\u001b[0m\n",
            "\u001b[0;32m/usr/local/lib/python3.6/dist-packages/pandas/io/parsers.py\u001b[0m in \u001b[0;36m_make_engine\u001b[0;34m(self, engine)\u001b[0m\n\u001b[1;32m   1112\u001b[0m     \u001b[0;32mdef\u001b[0m \u001b[0m_make_engine\u001b[0m\u001b[0;34m(\u001b[0m\u001b[0mself\u001b[0m\u001b[0;34m,\u001b[0m \u001b[0mengine\u001b[0m\u001b[0;34m=\u001b[0m\u001b[0;34m\"c\"\u001b[0m\u001b[0;34m)\u001b[0m\u001b[0;34m:\u001b[0m\u001b[0;34m\u001b[0m\u001b[0;34m\u001b[0m\u001b[0m\n\u001b[1;32m   1113\u001b[0m         \u001b[0;32mif\u001b[0m \u001b[0mengine\u001b[0m \u001b[0;34m==\u001b[0m \u001b[0;34m\"c\"\u001b[0m\u001b[0;34m:\u001b[0m\u001b[0;34m\u001b[0m\u001b[0;34m\u001b[0m\u001b[0m\n\u001b[0;32m-> 1114\u001b[0;31m             \u001b[0mself\u001b[0m\u001b[0;34m.\u001b[0m\u001b[0m_engine\u001b[0m \u001b[0;34m=\u001b[0m \u001b[0mCParserWrapper\u001b[0m\u001b[0;34m(\u001b[0m\u001b[0mself\u001b[0m\u001b[0;34m.\u001b[0m\u001b[0mf\u001b[0m\u001b[0;34m,\u001b[0m \u001b[0;34m**\u001b[0m\u001b[0mself\u001b[0m\u001b[0;34m.\u001b[0m\u001b[0moptions\u001b[0m\u001b[0;34m)\u001b[0m\u001b[0;34m\u001b[0m\u001b[0;34m\u001b[0m\u001b[0m\n\u001b[0m\u001b[1;32m   1115\u001b[0m         \u001b[0;32melse\u001b[0m\u001b[0;34m:\u001b[0m\u001b[0;34m\u001b[0m\u001b[0;34m\u001b[0m\u001b[0m\n\u001b[1;32m   1116\u001b[0m             \u001b[0;32mif\u001b[0m \u001b[0mengine\u001b[0m \u001b[0;34m==\u001b[0m \u001b[0;34m\"python\"\u001b[0m\u001b[0;34m:\u001b[0m\u001b[0;34m\u001b[0m\u001b[0;34m\u001b[0m\u001b[0m\n",
            "\u001b[0;32m/usr/local/lib/python3.6/dist-packages/pandas/io/parsers.py\u001b[0m in \u001b[0;36m__init__\u001b[0;34m(self, src, **kwds)\u001b[0m\n\u001b[1;32m   1889\u001b[0m         \u001b[0mkwds\u001b[0m\u001b[0;34m[\u001b[0m\u001b[0;34m\"usecols\"\u001b[0m\u001b[0;34m]\u001b[0m \u001b[0;34m=\u001b[0m \u001b[0mself\u001b[0m\u001b[0;34m.\u001b[0m\u001b[0musecols\u001b[0m\u001b[0;34m\u001b[0m\u001b[0;34m\u001b[0m\u001b[0m\n\u001b[1;32m   1890\u001b[0m \u001b[0;34m\u001b[0m\u001b[0m\n\u001b[0;32m-> 1891\u001b[0;31m         \u001b[0mself\u001b[0m\u001b[0;34m.\u001b[0m\u001b[0m_reader\u001b[0m \u001b[0;34m=\u001b[0m \u001b[0mparsers\u001b[0m\u001b[0;34m.\u001b[0m\u001b[0mTextReader\u001b[0m\u001b[0;34m(\u001b[0m\u001b[0msrc\u001b[0m\u001b[0;34m,\u001b[0m \u001b[0;34m**\u001b[0m\u001b[0mkwds\u001b[0m\u001b[0;34m)\u001b[0m\u001b[0;34m\u001b[0m\u001b[0;34m\u001b[0m\u001b[0m\n\u001b[0m\u001b[1;32m   1892\u001b[0m         \u001b[0mself\u001b[0m\u001b[0;34m.\u001b[0m\u001b[0munnamed_cols\u001b[0m \u001b[0;34m=\u001b[0m \u001b[0mself\u001b[0m\u001b[0;34m.\u001b[0m\u001b[0m_reader\u001b[0m\u001b[0;34m.\u001b[0m\u001b[0munnamed_cols\u001b[0m\u001b[0;34m\u001b[0m\u001b[0;34m\u001b[0m\u001b[0m\n\u001b[1;32m   1893\u001b[0m \u001b[0;34m\u001b[0m\u001b[0m\n",
            "\u001b[0;32mpandas/_libs/parsers.pyx\u001b[0m in \u001b[0;36mpandas._libs.parsers.TextReader.__cinit__\u001b[0;34m()\u001b[0m\n",
            "\u001b[0;32mpandas/_libs/parsers.pyx\u001b[0m in \u001b[0;36mpandas._libs.parsers.TextReader._setup_parser_source\u001b[0;34m()\u001b[0m\n",
            "\u001b[0;31mFileNotFoundError\u001b[0m: [Errno 2] File -f does not exist: '-f'"
          ]
        }
      ]
    }
  ]
}